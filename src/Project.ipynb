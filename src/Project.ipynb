{
 "cells": [
  {
   "cell_type": "code",
   "execution_count": 1,
   "metadata": {},
   "outputs": [],
   "source": [
    "from IPython.display import clear_output\n",
    "import time\n",
    "from colorama import Fore\n",
    "import pandas as pd\n",
    "from random import randint\n",
    "import random\n",
    "import matplotlib.pyplot as plt\n",
    "import matplotlib\n",
    "from collections import Counter\n",
    "import numpy as np\n",
    "import sys\n",
    "%matplotlib inline"
   ]
  },
  {
   "cell_type": "code",
   "execution_count": 2,
   "metadata": {},
   "outputs": [],
   "source": [
    "def showHead():\n",
    "    S='\\033[1m'+'\\033[4m'+\"Welcome to the Movie Guessing Game - BOLLY-WOOD\"+'\\033[0m'\n",
    "    print('='.center(98,'='))\n",
    "    print(S.center(110,'*'))\n",
    "    print('='.center(98,'='))\n",
    "    print(\"\\n\"+'\\033[1m'+\"Overview : \"+'\\033[0m')\n",
    "    print(\"This game is similar to the traditional game 'Bollywood' we play with our friends, in which one\\t  player thinks of a movie and only shows the vowels. Other player has to guess the movie in the\\t  given chances.\")\n",
    "    print(\"\\n\"+'\\033[1m'+\"Rules : \"+'\\033[0m')\n",
    "    print(\"1. A player will get 10 wrong chances as in string 'Bolly-wood' to guess the movie.\")\n",
    "    print(\"2. If a vowel is entered then an error will be printed.\")\n",
    "    print(\"3. A letter can be entered only once, if you enter it a second time then an error will be printed\")\n",
    "    print(\"4. Also you will save a chance if you enter a wrong letter and the next letter to be cut from\\t\\tBolly-wood string is same.\")\n",
    "    print(\"5. When your wrong letters count reach '-' of Bolly-wood a hint will be provided to help you.\")\n",
    "    print(\"\\n\"+'\\033[1m'+\"Working : \"+'\\033[0m')\n",
    "    print(\"1. Game has 2 modes : Multiplayer and Single player\\n\\tA) In Myultiplayer mode the user will get an option to enter a movie and hint\\n\\tB) In Sinble Player mode a random movie from a txt file will be picked\")\n",
    "    print(\"2. Then player can start guessing the movie by entering a letter at a time. If the guess is - \\n\\tA) correct, message 'Nice Guess' will be printed\\n\\tB) wrong, message 'Wrong Guess' will be printed\")\n",
    "    print(\"3. If the player is not able to guess the movie then the movie will be revealed to the player\")\n",
    "    print(\"4. In the end a pie chart analyzing the accuracy of player, a bar graph of number of vowels and     consonants in the movie and a frequency graph of all the letters in the movie name will be shown\")\n",
    "    print(\"\\n\"+'\\033[1m'+\"Let's Get Started!!!\"+'\\033[0m')"
   ]
  },
  {
   "cell_type": "code",
   "execution_count": 3,
   "metadata": {},
   "outputs": [],
   "source": [
    "def selectMovie(c):\n",
    "    file=open('FinalMovies.txt','r')\n",
    "    list1=file.readlines()\n",
    "    if c==1:\n",
    "        x=random.randint(0,3)\n",
    "    elif c==2:\n",
    "        x=random.randint(4,7)\n",
    "    else:\n",
    "        x=random.randint(8,11)\n",
    "    line=list1[x]\n",
    "    movie=line.split(' Hint :')[0]\n",
    "    hint=line.split(' Hint :')[1]\n",
    "    return movie,hint"
   ]
  },
  {
   "cell_type": "code",
   "execution_count": 4,
   "metadata": {},
   "outputs": [],
   "source": [
    "def clearOutput():\n",
    "    print('Now the Movie name and Hint will be erased and player 2 can start guessing the Movie')\n",
    "    t=time.time()+7\n",
    "    while time.time()<t:\n",
    "        continue\n",
    "    clear_output()"
   ]
  },
  {
   "cell_type": "code",
   "execution_count": 5,
   "metadata": {},
   "outputs": [],
   "source": [
    "def checkLose(check,Movie_st):\n",
    "    if check==10:\n",
    "        print(\"\\nYou didn't Guess the movie in the given chances.\\n\")\n",
    "        print(\"The movie was\",Movie_st,\"\\nYou Lose! Good Luck next time.\")"
   ]
  },
  {
   "cell_type": "code",
   "execution_count": 6,
   "metadata": {},
   "outputs": [],
   "source": [
    "class Movie:\n",
    "    def __init__(self,mov,hin):\n",
    "        self.Movie_st=mov.upper()\n",
    "        self.Movie_name=list(self.Movie_st)\n",
    "        self.Movie_out=[]\n",
    "        self.movieOut()\n",
    "        self.Movie_check=[]\n",
    "        self.movieCheck()\n",
    "        self.Hint=hin\n",
    "        \n",
    "    def movieOut(self):\n",
    "        for i in self.Movie_name:\n",
    "            if i=='A' or i=='E' or i=='I' or i=='O' or i=='U' :\n",
    "                self.Movie_out.append(i)\n",
    "            elif i==\" \":\n",
    "                self.Movie_out.append('/')\n",
    "            else:\n",
    "                self.Movie_out.append('-')\n",
    "                \n",
    "    def movieCheck(self):\n",
    "        for i in self.Movie_name:\n",
    "            if i==\" \":\n",
    "                self.Movie_check.append('/')\n",
    "            else:\n",
    "                self.Movie_check.append(i)\n",
    "                \n",
    "    def moviePrint(self):\n",
    "        for i in self.Movie_out:\n",
    "            print(i,end='')\n",
    "            \n",
    "    def printHint(self,check,c):\n",
    "        if check==6 and c==1:\n",
    "            print(\"\\nHint : \",self.Hint)\n",
    "            return 0\n",
    "        else:\n",
    "            return c\n",
    "            \n",
    "    def movieUpdate(self,letter):\n",
    "        ch=0\n",
    "        for i in range(0,len(self.Movie_name)):\n",
    "            if letter==self.Movie_name[i]:\n",
    "                self.Movie_out[i]=letter\n",
    "            else:\n",
    "                ch=ch+1\n",
    "        return ch\n",
    "    \n",
    "    def checkGuessMovie(self,check):\n",
    "        if self.Movie_out==self.Movie_check:\n",
    "            print(\"Great You Guessed the Movie.\")\n",
    "            print(self.Movie_st)\n",
    "            return 11\n",
    "        else:\n",
    "            return check"
   ]
  },
  {
   "cell_type": "code",
   "execution_count": 7,
   "metadata": {},
   "outputs": [],
   "source": [
    "class Bollywood:\n",
    "    def __init__(self):\n",
    "        self.S='BOLLY-WOOD'\n",
    "        self.C='----------'\n",
    "        self.list_bolly=list(self.S)\n",
    "        self.list_change=self.list_bolly[:]\n",
    "        self.setInitial()\n",
    "        self.list_out=list(self.C)\n",
    "        \n",
    "    def setInitial(self):\n",
    "        for i in range(0,10):\n",
    "            self.list_bolly[i]=Fore.GREEN+self.list_bolly[i]+Fore.RESET\n",
    "            \n",
    "    def showBolly(self):\n",
    "        print('{0:25}'.format(\"Checking - \"),end='')\n",
    "        for i in range(0,10):\n",
    "            print(self.list_bolly[i],\"  \",end='')\n",
    "        print()\n",
    "        print('{0:25}'.format('Wrong letters guessed - '),end='')\n",
    "        for i in range(0,10):\n",
    "            print(self.list_out[i],'  ',end='')\n",
    "        print(\"\\n\")\n",
    "        \n",
    "    def showGuess(self,ch,s,check,right,wrong):\n",
    "        if ch==len(s):\n",
    "            print(\"Wrong Letter Guessed :(\\n\")\n",
    "            self.list_bolly[check]=Fore.RED + self.list_change[check] +Fore.RESET\n",
    "            self.list_out[check]=Fore.BLUE+letter+Fore.RESET\n",
    "            return check+1,right,wrong+1\n",
    "        else:\n",
    "            print(\"Nice Guess :)\\n\")\n",
    "            return check,right+1,wrong\n",
    "        \n",
    "    def checkSameLetter(self,ch,s,letter,check):\n",
    "        if self.list_change[check]==letter and ch==len(s):\n",
    "            print(\"Same letters can't be cut. Good Call! Saved Yourself a Chance\\n\")\n",
    "            return True\n",
    "        else:\n",
    "            return False"
   ]
  },
  {
   "cell_type": "code",
   "execution_count": 8,
   "metadata": {},
   "outputs": [],
   "source": [
    "class CheckLetter:\n",
    "    def __init__(self):\n",
    "        self.letters=[]\n",
    "        self.vowels=['A','I','E','O','U']\n",
    "        \n",
    "    def checkVowel(self,letter):\n",
    "        if letter in self.vowels:\n",
    "            print(\"Entered letter is a vowel. Please enter another letter.\\n\")\n",
    "            return True\n",
    "        else:\n",
    "            return False\n",
    "        \n",
    "    def checkEnteredBefore(self,letter):\n",
    "        if letter in self.letters:\n",
    "            print(\"Already entered the letter. Please enter a new letter.\\n\")\n",
    "            return True\n",
    "        else:\n",
    "            self.letters.append(letter)\n",
    "            return False"
   ]
  },
  {
   "cell_type": "code",
   "execution_count": 9,
   "metadata": {},
   "outputs": [],
   "source": [
    "def vizShowGuessPie(c,w):\n",
    "    Accu=format((c/(c+w))*100,'.2f')\n",
    "    S='Your Accuracy is '+str(Accu)+'%'\n",
    "    labels=['Right guesses','Wrong guesses']\n",
    "    sizes=[c,w]\n",
    "    colors=['lightgreen','red']\n",
    "    explodeTuple=(0,0.1)\n",
    "    plt.pie(sizes,labels=labels,colors=colors,explode=explodeTuple,wedgeprops={'linewidth':0.5,'edgecolor':\"black\"},shadow=True,autopct='%1.1f%%',startangle=90)\n",
    "    plt.axis('equal')\n",
    "    plt.title(S)\n",
    "    plt.show()"
   ]
  },
  {
   "cell_type": "code",
   "execution_count": 10,
   "metadata": {},
   "outputs": [],
   "source": [
    "def vcFrequencyGraph(movie):\n",
    "    print(\"\\nFrequency graph of Vowels and Consonants occuring in the Movie\\n\\n\")\n",
    "    s=movie\n",
    "    vowels=0\n",
    "    consonants=0\n",
    "    for i in range(0,len(s)):\n",
    "        ch=s[i]\n",
    "        if(ch=='a' or ch=='A' or ch=='e' or ch=='E' or ch=='i' or ch=='I' or ch=='o' or ch=='O' or ch=='u' or ch=='U'):\n",
    "            vowels=vowels+1\n",
    "        else:\n",
    "            consonants=consonants+1\n",
    "    data=[[vowels],[consonants]]\n",
    "    df=pd.DataFrame(data,index=['Vowels','Consonants'],columns=['Frequency'])\n",
    "    legend=['Vowels','Consonants']\n",
    "    matplotlib.style.use('Solarize_Light2')\n",
    "    df.plot.bar(fontsize=12,figsize=(10,6),width=0.20,edgecolor='black',linewidth=3,color='red')"
   ]
  },
  {
   "cell_type": "code",
   "execution_count": 11,
   "metadata": {},
   "outputs": [],
   "source": [
    "def letterFreqGraph(St):\n",
    "    s=St\n",
    "    list1=list(s)\n",
    "    s2=\"\"\n",
    "    for i in list1:\n",
    "        if i==\" \":\n",
    "            continue\n",
    "        else:\n",
    "            s2=s2+i\n",
    "    res=Counter(s2)\n",
    "    plt.xlabel('Letters',fontsize=12)\n",
    "    plt.ylabel('Frequency',fontsize=12)\n",
    "    plt.title('Frequency of letters appearing in the movie.',fontsize=12)\n",
    "    plt.yticks(range(0,50))\n",
    "    matplotlib.style.use('seaborn-pastel')\n",
    "    plt.bar(*zip(*res.most_common()), width=.5,color='lightgreen',edgecolor='black',linewidth=3)"
   ]
  },
  {
   "cell_type": "code",
   "execution_count": 12,
   "metadata": {
    "scrolled": true
   },
   "outputs": [
    {
     "name": "stdout",
     "output_type": "stream",
     "text": [
      "==================================================================================================\n",
      "*************************\u001b[1m\u001b[4mWelcome to the Movie Guessing Game - BOLLY-WOOD\u001b[0m**************************\n",
      "==================================================================================================\n",
      "\n",
      "\u001b[1mOverview : \u001b[0m\n",
      "This game is similar to the traditional game 'Bollywood' we play with our friends, in which one\t  player thinks of a movie and only shows the vowels. Other player has to guess the movie in the\t  given chances.\n",
      "\n",
      "\u001b[1mRules : \u001b[0m\n",
      "1. A player will get 10 wrong chances as in string 'Bolly-wood' to guess the movie.\n",
      "2. If a vowel is entered then an error will be printed.\n",
      "3. A letter can be entered only once, if you enter it a second time then an error will be printed\n",
      "4. Also you will save a chance if you enter a wrong letter and the next letter to be cut from\t\tBolly-wood string is same.\n",
      "5. When your wrong letters count reach '-' of Bolly-wood a hint will be provided to help you.\n",
      "\n",
      "\u001b[1mWorking : \u001b[0m\n",
      "1. Game has 2 modes : Multiplayer and Single player\n",
      "\tA) In Myultiplayer mode the user will get an option to enter a movie and hint\n",
      "\tB) In Sinble Player mode a random movie from a txt file will be picked\n",
      "2. Then player can start guessing the movie by entering a letter at a time. If the guess is - \n",
      "\tA) correct, message 'Nice Guess' will be printed\n",
      "\tB) wrong, message 'Wrong Guess' will be printed\n",
      "3. If the player is not able to guess the movie then the movie will be revealed to the player\n",
      "4. In the end a pie chart analyzing the accuracy of player, a bar graph of number of vowels and     consonants in the movie and a frequency graph of all the letters in the movie name will be shown\n",
      "\n",
      "\u001b[1mLet's Get Started!!!\u001b[0m\n",
      "\n",
      "Play game in Single Player Mode(1) or Multiplayer Mode(2)? 1\n",
      "Select Level : \n",
      "1. Easy\n",
      "2. Medium\n",
      "3. Hard\n",
      "Choice : 3\n",
      "Checking -               \u001b[32mB\u001b[39m   \u001b[32mO\u001b[39m   \u001b[32mL\u001b[39m   \u001b[32mL\u001b[39m   \u001b[32mY\u001b[39m   \u001b[32m-\u001b[39m   \u001b[32mW\u001b[39m   \u001b[32mO\u001b[39m   \u001b[32mO\u001b[39m   \u001b[32mD\u001b[39m   \n",
      "Wrong letters guessed -  -   -   -   -   -   -   -   -   -   -   \n",
      "\n",
      "--I--AU-I\n",
      "Guess a letter - p\n",
      "Nice Guess :)\n",
      "\n",
      "Checking -               \u001b[32mB\u001b[39m   \u001b[32mO\u001b[39m   \u001b[32mL\u001b[39m   \u001b[32mL\u001b[39m   \u001b[32mY\u001b[39m   \u001b[32m-\u001b[39m   \u001b[32mW\u001b[39m   \u001b[32mO\u001b[39m   \u001b[32mO\u001b[39m   \u001b[32mD\u001b[39m   \n",
      "Wrong letters guessed -  -   -   -   -   -   -   -   -   -   -   \n",
      "\n",
      "P-I--AU-I\n",
      "Guess a letter - h\n",
      "Nice Guess :)\n",
      "\n",
      "Checking -               \u001b[32mB\u001b[39m   \u001b[32mO\u001b[39m   \u001b[32mL\u001b[39m   \u001b[32mL\u001b[39m   \u001b[32mY\u001b[39m   \u001b[32m-\u001b[39m   \u001b[32mW\u001b[39m   \u001b[32mO\u001b[39m   \u001b[32mO\u001b[39m   \u001b[32mD\u001b[39m   \n",
      "Wrong letters guessed -  -   -   -   -   -   -   -   -   -   -   \n",
      "\n",
      "PHI--AU-I\n",
      "Guess a letter - t\n",
      "Wrong Letter Guessed :(\n",
      "\n",
      "Checking -               \u001b[31mB\u001b[39m   \u001b[32mO\u001b[39m   \u001b[32mL\u001b[39m   \u001b[32mL\u001b[39m   \u001b[32mY\u001b[39m   \u001b[32m-\u001b[39m   \u001b[32mW\u001b[39m   \u001b[32mO\u001b[39m   \u001b[32mO\u001b[39m   \u001b[32mD\u001b[39m   \n",
      "Wrong letters guessed -  \u001b[34mT\u001b[39m   -   -   -   -   -   -   -   -   -   \n",
      "\n",
      "PHI--AU-I\n",
      "Guess a letter - r\n",
      "Nice Guess :)\n",
      "\n",
      "Checking -               \u001b[31mB\u001b[39m   \u001b[32mO\u001b[39m   \u001b[32mL\u001b[39m   \u001b[32mL\u001b[39m   \u001b[32mY\u001b[39m   \u001b[32m-\u001b[39m   \u001b[32mW\u001b[39m   \u001b[32mO\u001b[39m   \u001b[32mO\u001b[39m   \u001b[32mD\u001b[39m   \n",
      "Wrong letters guessed -  \u001b[34mT\u001b[39m   -   -   -   -   -   -   -   -   -   \n",
      "\n",
      "PHI--AURI\n",
      "Guess a letter - e\n",
      "Entered letter is a vowel. Please enter another letter.\n",
      "\n",
      "Checking -               \u001b[31mB\u001b[39m   \u001b[32mO\u001b[39m   \u001b[32mL\u001b[39m   \u001b[32mL\u001b[39m   \u001b[32mY\u001b[39m   \u001b[32m-\u001b[39m   \u001b[32mW\u001b[39m   \u001b[32mO\u001b[39m   \u001b[32mO\u001b[39m   \u001b[32mD\u001b[39m   \n",
      "Wrong letters guessed -  \u001b[34mT\u001b[39m   -   -   -   -   -   -   -   -   -   \n",
      "\n",
      "PHI--AURI\n",
      "Guess a letter - p\n",
      "Already entered the letter. Please enter a new letter.\n",
      "\n",
      "Checking -               \u001b[31mB\u001b[39m   \u001b[32mO\u001b[39m   \u001b[32mL\u001b[39m   \u001b[32mL\u001b[39m   \u001b[32mY\u001b[39m   \u001b[32m-\u001b[39m   \u001b[32mW\u001b[39m   \u001b[32mO\u001b[39m   \u001b[32mO\u001b[39m   \u001b[32mD\u001b[39m   \n",
      "Wrong letters guessed -  \u001b[34mT\u001b[39m   -   -   -   -   -   -   -   -   -   \n",
      "\n",
      "PHI--AURI\n",
      "Guess a letter - y\n",
      "Wrong Letter Guessed :(\n",
      "\n",
      "Checking -               \u001b[31mB\u001b[39m   \u001b[31mO\u001b[39m   \u001b[32mL\u001b[39m   \u001b[32mL\u001b[39m   \u001b[32mY\u001b[39m   \u001b[32m-\u001b[39m   \u001b[32mW\u001b[39m   \u001b[32mO\u001b[39m   \u001b[32mO\u001b[39m   \u001b[32mD\u001b[39m   \n",
      "Wrong letters guessed -  \u001b[34mT\u001b[39m   \u001b[34mY\u001b[39m   -   -   -   -   -   -   -   -   \n",
      "\n",
      "PHI--AURI\n",
      "Guess a letter - l\n",
      "Nice Guess :)\n",
      "\n",
      "Great You Guessed the Movie.\n",
      "PHILLAURI\n"
     ]
    }
   ],
   "source": [
    "showHead()\n",
    "print()\n",
    "choice=int(input(\"Play game in Single Player Mode(1) or Multiplayer Mode(2)? \"))\n",
    "if choice==1:\n",
    "    print(\"Select Level : \\n1. Easy\\n2. Medium\\n3. Hard\")\n",
    "    cho=int(input('Choice : '))\n",
    "    Movie_st,Hint=selectMovie(cho)\n",
    "    ob_movie=Movie(Movie_st,Hint)\n",
    "    \n",
    "elif choice==2:\n",
    "    Movie_st=input('Enter Movie Name : ')\n",
    "    Hint=input('Enter a Hint : ')\n",
    "    ob_movie=Movie(Movie_st,Hint)\n",
    "    clearOutput()\n",
    "    \n",
    "else:\n",
    "    print(\"Entered Wrong Choice\")\n",
    "    sys.exit()\n",
    "\n",
    "ob_bolly=Bollywood()\n",
    "ob_check=CheckLetter()\n",
    "check=0\n",
    "c=1\n",
    "wrong=0\n",
    "right=0\n",
    "while check<10:\n",
    "    ob_bolly.showBolly()\n",
    "    c=ob_movie.printHint(check,c)\n",
    "    ob_movie.moviePrint()\n",
    "    \n",
    "    letter=input('\\nGuess a letter - ')\n",
    "    letter=letter.upper()\n",
    "    \n",
    "    if ob_check.checkVowel(letter):\n",
    "        continue\n",
    "        \n",
    "    if ob_check.checkEnteredBefore(letter):\n",
    "        continue\n",
    "        \n",
    "    ch=ob_movie.movieUpdate(letter)\n",
    "    if ob_bolly.checkSameLetter(ch,ob_movie.Movie_name,letter,check):\n",
    "        continue\n",
    "    check,right,wrong=ob_bolly.showGuess(ch,ob_movie.Movie_name,check,right,wrong)\n",
    "    check=ob_movie.checkGuessMovie(check)\n",
    "\n",
    "checkLose(check,Movie_st11)"
   ]
  },
  {
   "cell_type": "code",
   "execution_count": 13,
   "metadata": {},
   "outputs": [
    {
     "name": "stdout",
     "output_type": "stream",
     "text": [
      "\n",
      "\u001b[1m\u001b[4mAnalysis Report\u001b[0m\n",
      "\n"
     ]
    },
    {
     "data": {
      "image/png": "[encoded data removed]",
      "text/plain": [
       "<Figure size 432x288 with 1 Axes>"
      ]
     },
     "metadata": {},
     "output_type": "display_data"
    }
   ],
   "source": [
    "print(\"\\n\"+'\\033[1m'+'\\033[4m'+\"Analysis Report\"+'\\033[0m'+\"\\n\")\n",
    "vizShowGuessPie(right,wrong)"
   ]
  },
  {
   "cell_type": "code",
   "execution_count": 14,
   "metadata": {},
   "outputs": [
    {
     "name": "stdout",
     "output_type": "stream",
     "text": [
      "\n",
      "Frequency graph of Vowels and Consonants occuring in the Movie\n",
      "\n",
      "\n"
     ]
    },
    {
     "data": {
      "image/png": "[encoded data removed]",
      "text/plain": [
       "<Figure size 720x432 with 1 Axes>"
      ]
     },
     "metadata": {},
     "output_type": "display_data"
    }
   ],
   "source": [
    "vcFrequencyGraph(ob_movie.Movie_st)"
   ]
  },
  {
   "cell_type": "code",
   "execution_count": 15,
   "metadata": {},
   "outputs": [
    {
     "data": {
      "image/png": "[encoded data removed]",
      "text/plain": [
       "<Figure size 432x288 with 1 Axes>"
      ]
     },
     "metadata": {},
     "output_type": "display_data"
    }
   ],
   "source": [
    "letterFreqGraph(ob_movie.Movie_st)"
   ]
  },
  {
   "cell_type": "code",
   "execution_count": null,
   "metadata": {},
   "outputs": [],
   "source": []
  }
 ],
 "metadata": {
  "kernelspec": {
   "display_name": "Python 3",
   "language": "python",
   "name": "python3"
  },
  "language_info": {
   "codemirror_mode": {
    "name": "ipython",
    "version": 3
   },
   "file_extension": ".py",
   "mimetype": "text/x-python",
   "name": "python",
   "nbconvert_exporter": "python",
   "pygments_lexer": "ipython3",
   "version": "3.7.7"
  }
 },
 "nbformat": 4,
 "nbformat_minor": 2
}
